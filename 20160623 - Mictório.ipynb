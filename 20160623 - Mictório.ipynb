{
 "cells": [
  {
   "cell_type": "markdown",
   "metadata": {},
   "source": [
    "# Mictório\n",
    "\n",
    "Entrada:\n",
    "- Configuração do mictório\n",
    "\n",
    "Saída:\n",
    "- Onde a pessoa vai entrar \n",
    "\n",
    "Ex:\n",
    "- [1, 0, 0, 0] -> [1, 0, 0, 1]"
   ]
  },
  {
   "cell_type": "code",
   "execution_count": 1,
   "metadata": {
    "collapsed": false
   },
   "outputs": [],
   "source": [
    "%load_ext ipython_unittest"
   ]
  },
  {
   "cell_type": "code",
   "execution_count": 2,
   "metadata": {
    "collapsed": true
   },
   "outputs": [],
   "source": [
    "def possible(config, i):\n",
    "    valid = True\n",
    "    if config[i]:\n",
    "        valid = False\n",
    "    if i > 0:\n",
    "        valid = valid and not config[i - 1]\n",
    "    if i < len(config) - 1:\n",
    "        valid = valid and not config[i + 1]\n",
    "    return valid"
   ]
  },
  {
   "cell_type": "code",
   "execution_count": 3,
   "metadata": {
    "collapsed": true
   },
   "outputs": [],
   "source": [
    "import re\n",
    "def fn(config):\n",
    "    def size(x):\n",
    "        span = x.span()\n",
    "        if span[0] == 0 or span[1] == len(config):\n",
    "            return ((span[1] - span[0]) * 2, -span[0])\n",
    "        return (span[1] - span[0], -span[0])\n",
    "    return size\n",
    "    \n",
    "def mic(config):\n",
    "    \"\"\"'Dojo' solution. Use regex to find 0s and max to find max amount of 0s.\n",
    "    It should be O(2n): O(n) to transform into string and O(n) to perform max(r'0+'),\n",
    "    but I'm not sure if python implements the regex r'0+' in O(n)\n",
    "    \"\"\"\n",
    "    text_config = \"\".join(map(str, config))\n",
    "    try:\n",
    "        match = max(re.finditer(\"0+\", text_config), key=fn(text_config))\n",
    "    except ValueError:\n",
    "        return False\n",
    "    \n",
    "    span = match.span()\n",
    "    \n",
    "    if span[0] == 0 and possible(config, 0):\n",
    "        config[0] = 1\n",
    "        return config\n",
    "    if span[1] == len(config) and possible(config, len(config) - 1):\n",
    "        config[len(config) - 1] = 1\n",
    "        return config\n",
    "    removal = [1, 0] if span[0] + span[1] % 2 == 0 else [0]\n",
    "    for rem in removal:\n",
    "        max_i = (span[0] + span[1] - 1 - rem) // 2\n",
    "        if possible(config, max_i):\n",
    "            config[max_i] = 1\n",
    "            return config\n",
    "    return False\n",
    "    \n",
    "    if config == [1, 0, 0, 1, 0]:\n",
    "        return False\n",
    "    if config == [0, 1, 0]:\n",
    "        return False\n",
    "    if config.count(1) >= len(config)/2:\n",
    "        return False\n",
    "    if config == [1, 0, 0]:\n",
    "        return [1, 0, 1]\n",
    "    config[0] = 1\n",
    "    return config"
   ]
  },
  {
   "cell_type": "code",
   "execution_count": 4,
   "metadata": {
    "collapsed": false
   },
   "outputs": [
    {
     "data": {
      "application/javascript": [
       "\n",
       "\n",
       "            var DojoClock = {\n",
       "              seconds: 300,\n",
       "              default: 300,\n",
       "              mouseOver: false,\n",
       "\n",
       "\n",
       "              secToMMSS: function (sec) {\n",
       "                var minutes = Math.floor(sec / 60);\n",
       "                var seconds = sec - (minutes * 60);\n",
       "                if (minutes < 10) { minutes = \"0\" + minutes; }\n",
       "                if (seconds < 10) { seconds = \"0\" + seconds; }\n",
       "                return minutes + \":\" + seconds;\n",
       "              },\n",
       "\n",
       "              display: function () {\n",
       "                var self = this;\n",
       "                $(\"#dojo-timer-time\").text(self.secToMMSS(self.seconds));\n",
       "              },\n",
       "\n",
       "              viewText: function() {\n",
       "                var self = this;\n",
       "                if ($(\"#dojo-eye\").hasClass(\"fa-eye\") ||\n",
       "                    $(\"#dojo-play-pause-icon\").hasClass(\"fa-play\") ||\n",
       "                    self.mouseOver) {\n",
       "                  $(\"#dojo-timer-time\").css(\"color\", \"black\");\n",
       "                } else {\n",
       "                  $(\"#dojo-timer-time\").css(\"color\", \"transparent\");\n",
       "                }\n",
       "              },\n",
       "\n",
       "              start: function () {\n",
       "                var self = this;\n",
       "                $(\"#dojo-play-pause-icon\").removeClass(\"fa-play\");\n",
       "                $(\"#dojo-play-pause-icon\").addClass(\"fa-pause\");\n",
       "\n",
       "                this.interval = setInterval(function () {\n",
       "                  self.display();\n",
       "                  if (self.seconds == 0) {\n",
       "                    self.pause();\n",
       "                    alert(\"Time is up. Click ok to restart timer\");\n",
       "                    self.seconds = self.default;\n",
       "                    self.start();\n",
       "                  } else {\n",
       "                    self.seconds--;\n",
       "                  }\n",
       "                  self.viewText();\n",
       "\n",
       "                }, 1000);\n",
       "                $(\"#dojo-timer-interval\").text(this.interval);\n",
       "              },\n",
       "\n",
       "              pause: function () {\n",
       "                var self = this;\n",
       "                $(\"#dojo-play-pause-icon\").addClass(\"fa-play\");\n",
       "                $(\"#dojo-play-pause-icon\").removeClass(\"fa-pause\");\n",
       "                $(\"#dojo-timer-interval\").text(\"\");\n",
       "                clearInterval(this.interval);\n",
       "                delete this.interval;\n",
       "                self.viewText();\n",
       "              },\n",
       "\n",
       "              resume: function () {\n",
       "                if (!this.interval) this.start();\n",
       "              },\n",
       "\n",
       "              reset: function () {\n",
       "                var self = this;\n",
       "                self.seconds = self.default;\n",
       "                self.display();\n",
       "                self.pause();\n",
       "              }\n",
       "\n",
       "            }\n",
       "\n",
       "            //if ($(\"#dojo-timer\").length) {\n",
       "            //  var interval = parseInt($(\"#dojo-timer-interval\").text());\n",
       "            //  clearInterval(interval);\n",
       "            //  $(\"#dojo-timer\").remove();\n",
       "            //}\n",
       "            if (!$(\"#dojo-timer\").length) {\n",
       "              $(\"#kernel_indicator\").after(\n",
       "                '<div id=\"dojo-timer\" class=\"navbar-text indicator_area\">' +\n",
       "                  '<span id=\"dojo-timer-interval\" ' +\n",
       "                   'style=\"margin: 0 5px; display: none;\"></span>' +\n",
       "                  '<a href=\"#\" id=\"dojo-play-pause\" ' +\n",
       "                   'style=\"color:rgb(119,119,119); margin: 0 5px;\">' +\n",
       "                    '<i id=\"dojo-play-pause-icon\" title=\"Play/Pause Timer\" ' +\n",
       "                     'class=\"fa fa-play\" id=\"refresh_timer_icon\"></i>' +\n",
       "                  '</a>' +\n",
       "                  '<a href=\"#\" id=\"dojo-time-toggler\" ' +\n",
       "                   'style=\"color:rgb(119,119,119);\">' +\n",
       "                    '<i id=\"dojo-eye\" title=\"Toggle Timer\" ' +\n",
       "                     'class=\"fa fa-eye-slash\" id=\"refresh_timer_icon\"></i>' +\n",
       "                  '</a>' +\n",
       "                  '<span id=\"dojo-timer-time\" ' +\n",
       "                   'style=\"margin: 0 5px; color:black;\">05:00</span>' +\n",
       "                  '<a href=\"#\" id=\"dojo-reset-time\" ' +\n",
       "                   'style=\"color:rgb(119,119,119);\">' +\n",
       "                    '<i title=\"Reset Time\" class=\"fa fa-refresh\"></i>' +\n",
       "                  '</a>' +\n",
       "                  '<a href=\"#\" id=\"dojo-configure-time\" ' +\n",
       "                   'style=\"color:rgb(119,119,119); margin: 0 5px;\">' +\n",
       "                    '<i title=\"Configure Time\" class=\"fa fa-wrench\"></i>'+\n",
       "                  '</a>' +\n",
       "                '</div>'\n",
       "              );\n",
       "              $(\"#dojo-timer-time\").hover(function(e) {\n",
       "                if ($(\"#dojo-eye\").hasClass(\"fa-eye-slash\")) {\n",
       "                  DojoClock.mouseOver = e.type === \"mouseenter\";\n",
       "                  DojoClock.viewText();\n",
       "                }\n",
       "              });\n",
       "              $(\"#dojo-reset-time\").click(function() {\n",
       "                DojoClock.reset();\n",
       "              });\n",
       "              $(\"#dojo-configure-time\").click(function() {\n",
       "                var time = prompt(\"New time in seconds\", DojoClock.default);\n",
       "                DojoClock.default = time;\n",
       "                DojoClock.reset();\n",
       "              });\n",
       "              $(\"#dojo-time-toggler\").click(function() {\n",
       "                if ($(\"#dojo-eye\").hasClass(\"fa-eye-slash\")) {\n",
       "                  $(\"#dojo-eye\").removeClass(\"fa-eye-slash\");\n",
       "                  $(\"#dojo-eye\").addClass(\"fa-eye\");\n",
       "                } else {\n",
       "                  $(\"#dojo-eye\").addClass(\"fa-eye-slash\");\n",
       "                  $(\"#dojo-eye\").removeClass(\"fa-eye\");\n",
       "                }\n",
       "                DojoClock.viewText();\n",
       "              });\n",
       "              $(\"#dojo-play-pause\").click(function() {\n",
       "                if ($(\"#dojo-play-pause-icon\").hasClass(\"fa-pause\")) {\n",
       "                  DojoClock.pause()\n",
       "                } else {\n",
       "                  DojoClock.resume();\n",
       "                }\n",
       "              });\n",
       "            }\n",
       "\n",
       "            "
      ],
      "text/plain": [
       "<IPython.core.display.Javascript object>"
      ]
     },
     "metadata": {},
     "output_type": "display_data"
    },
    {
     "data": {
      "application/javascript": [
       "$('#dojo-timer-time').css(\"background-color\",\"yellow\");"
      ],
      "text/plain": [
       "<IPython.core.display.Javascript object>"
      ]
     },
     "metadata": {},
     "output_type": "display_data"
    },
    {
     "data": {
      "application/javascript": [
       "Jupyter.notebook.select(Jupyter.notebook.get_selected_index() - 2)"
      ],
      "text/plain": [
       "<IPython.core.display.Javascript object>"
      ]
     },
     "metadata": {},
     "output_type": "display_data"
    },
    {
     "name": "stdout",
     "output_type": "stream",
     "text": [
      "................\n",
      "----------------------------------------------------------------------\n",
      "Ran 16 tests in 0.013s\n",
      "\n",
      "OK\n"
     ]
    },
    {
     "data": {
      "application/javascript": [
       "$('#dojo-timer-time').css(\"background-color\",\"lightgreen\");"
      ],
      "text/plain": [
       "<IPython.core.display.Javascript object>"
      ]
     },
     "metadata": {},
     "output_type": "display_data"
    },
    {
     "data": {
      "text/plain": [
       "<unittest.runner.TextTestResult run=16 errors=0 failures=0>"
      ]
     },
     "execution_count": 4,
     "metadata": {},
     "output_type": "execute_result"
    }
   ],
   "source": [
    "%%unittest -p 1 --dojo\n",
    "assert mic([0]) == [1]\n",
    "assert mic([1]) == False\n",
    "assert mic([0, 0]) == [1, 0]\n",
    "assert mic([1, 0]) == False\n",
    "assert mic([0, 1]) == False\n",
    "assert mic([1, 0, 0]) == [1, 0, 1]\n",
    "assert mic([1, 0, 1]) == False\n",
    "assert mic([0, 0, 0]) == [1, 0, 0]\n",
    "assert mic([0, 1, 0]) == False\n",
    "assert mic([1, 0, 0, 1, 0]) == False\n",
    "\n",
    "assert mic([1, 0, 0, 1, 0, 0, 0, 1]) == [1, 0, 0, 1, 0, 1, 0, 1]\n",
    "assert mic([1, 0, 0, 1, 0, 0, 0, 0, 1]) == [1, 0, 0, 1, 0, 1, 0, 0, 1]\n",
    "assert mic([0, 0, 0, 0, 0, 0, 0, 0]) == [1, 0, 0, 0, 0, 0, 0, 0]\n",
    "assert mic([1, 1, 1, 1, 1, 1, 1, 1]) == False\n",
    "assert mic([0, 0, 0, 1, 0, 0, 1, 0, 0, 0, 0, 1]) == [1, 0, 0, 1, 0, 0, 1, 0, 0, 0, 0, 1]\n",
    "assert mic([0, 0, 0, 0, 1, 0, 0, 0, 0]) == [1, 0, 0, 0, 1, 0, 0, 0, 0]"
   ]
  },
  {
   "cell_type": "code",
   "execution_count": 5,
   "metadata": {
    "collapsed": true
   },
   "outputs": [],
   "source": [
    "def new_solution(config, solution, first, last):\n",
    "    if first is None:\n",
    "        return solution\n",
    "    size = last - first\n",
    "    if first == 0 or last == len(config) - 1:\n",
    "        size *= 2\n",
    "    current = (first, last, size)\n",
    "    if current[2] > solution[2]:\n",
    "        return current\n",
    "    return solution\n",
    "\n",
    "def urinal_n(config):\n",
    "    \"\"\"Find the solution in O(n) by manually counting 0s\"\"\"\n",
    "    solution = (None, None, 0)\n",
    "    first_0 = None\n",
    "    for i, value in enumerate(config):\n",
    "        if not value and first_0 is None:\n",
    "            first_0 = i\n",
    "        if value:\n",
    "            solution = new_solution(config, solution, first_0, i - 1)\n",
    "            first_0 = None\n",
    "    \n",
    "    solution = new_solution(config, solution, first_0, len(config) - 1)\n",
    "    \n",
    "    if solution[0] == 0 and possible(config, 0):\n",
    "        config[0] = 1\n",
    "        return config\n",
    "    if solution[1] == len(config) - 1 and possible(config, len(config) - 1):\n",
    "        config[len(config) - 1] = 1\n",
    "        return config\n",
    "    removal = [1, 0] if span[0] + span[1] % 2 == 0 else [0]\n",
    "    for rem in removal:\n",
    "        max_i = (solution[0] + solution[1] - rem) // 2\n",
    "        if possible(config, max_i):\n",
    "            config[max_i] = 1\n",
    "            return config\n",
    "    return False\n",
    "                \n",
    "mix = urinal_n"
   ]
  },
  {
   "cell_type": "code",
   "execution_count": 6,
   "metadata": {
    "collapsed": false
   },
   "outputs": [
    {
     "data": {
      "application/javascript": [
       "\n",
       "\n",
       "            var DojoClock = {\n",
       "              seconds: 300,\n",
       "              default: 300,\n",
       "              mouseOver: false,\n",
       "\n",
       "\n",
       "              secToMMSS: function (sec) {\n",
       "                var minutes = Math.floor(sec / 60);\n",
       "                var seconds = sec - (minutes * 60);\n",
       "                if (minutes < 10) { minutes = \"0\" + minutes; }\n",
       "                if (seconds < 10) { seconds = \"0\" + seconds; }\n",
       "                return minutes + \":\" + seconds;\n",
       "              },\n",
       "\n",
       "              display: function () {\n",
       "                var self = this;\n",
       "                $(\"#dojo-timer-time\").text(self.secToMMSS(self.seconds));\n",
       "              },\n",
       "\n",
       "              viewText: function() {\n",
       "                var self = this;\n",
       "                if ($(\"#dojo-eye\").hasClass(\"fa-eye\") ||\n",
       "                    $(\"#dojo-play-pause-icon\").hasClass(\"fa-play\") ||\n",
       "                    self.mouseOver) {\n",
       "                  $(\"#dojo-timer-time\").css(\"color\", \"black\");\n",
       "                } else {\n",
       "                  $(\"#dojo-timer-time\").css(\"color\", \"transparent\");\n",
       "                }\n",
       "              },\n",
       "\n",
       "              start: function () {\n",
       "                var self = this;\n",
       "                $(\"#dojo-play-pause-icon\").removeClass(\"fa-play\");\n",
       "                $(\"#dojo-play-pause-icon\").addClass(\"fa-pause\");\n",
       "\n",
       "                this.interval = setInterval(function () {\n",
       "                  self.display();\n",
       "                  if (self.seconds == 0) {\n",
       "                    self.pause();\n",
       "                    alert(\"Time is up. Click ok to restart timer\");\n",
       "                    self.seconds = self.default;\n",
       "                    self.start();\n",
       "                  } else {\n",
       "                    self.seconds--;\n",
       "                  }\n",
       "                  self.viewText();\n",
       "\n",
       "                }, 1000);\n",
       "                $(\"#dojo-timer-interval\").text(this.interval);\n",
       "              },\n",
       "\n",
       "              pause: function () {\n",
       "                var self = this;\n",
       "                $(\"#dojo-play-pause-icon\").addClass(\"fa-play\");\n",
       "                $(\"#dojo-play-pause-icon\").removeClass(\"fa-pause\");\n",
       "                $(\"#dojo-timer-interval\").text(\"\");\n",
       "                clearInterval(this.interval);\n",
       "                delete this.interval;\n",
       "                self.viewText();\n",
       "              },\n",
       "\n",
       "              resume: function () {\n",
       "                if (!this.interval) this.start();\n",
       "              },\n",
       "\n",
       "              reset: function () {\n",
       "                var self = this;\n",
       "                self.seconds = self.default;\n",
       "                self.display();\n",
       "                self.pause();\n",
       "              }\n",
       "\n",
       "            }\n",
       "\n",
       "            //if ($(\"#dojo-timer\").length) {\n",
       "            //  var interval = parseInt($(\"#dojo-timer-interval\").text());\n",
       "            //  clearInterval(interval);\n",
       "            //  $(\"#dojo-timer\").remove();\n",
       "            //}\n",
       "            if (!$(\"#dojo-timer\").length) {\n",
       "              $(\"#kernel_indicator\").after(\n",
       "                '<div id=\"dojo-timer\" class=\"navbar-text indicator_area\">' +\n",
       "                  '<span id=\"dojo-timer-interval\" ' +\n",
       "                   'style=\"margin: 0 5px; display: none;\"></span>' +\n",
       "                  '<a href=\"#\" id=\"dojo-play-pause\" ' +\n",
       "                   'style=\"color:rgb(119,119,119); margin: 0 5px;\">' +\n",
       "                    '<i id=\"dojo-play-pause-icon\" title=\"Play/Pause Timer\" ' +\n",
       "                     'class=\"fa fa-play\" id=\"refresh_timer_icon\"></i>' +\n",
       "                  '</a>' +\n",
       "                  '<a href=\"#\" id=\"dojo-time-toggler\" ' +\n",
       "                   'style=\"color:rgb(119,119,119);\">' +\n",
       "                    '<i id=\"dojo-eye\" title=\"Toggle Timer\" ' +\n",
       "                     'class=\"fa fa-eye-slash\" id=\"refresh_timer_icon\"></i>' +\n",
       "                  '</a>' +\n",
       "                  '<span id=\"dojo-timer-time\" ' +\n",
       "                   'style=\"margin: 0 5px; color:black;\">05:00</span>' +\n",
       "                  '<a href=\"#\" id=\"dojo-reset-time\" ' +\n",
       "                   'style=\"color:rgb(119,119,119);\">' +\n",
       "                    '<i title=\"Reset Time\" class=\"fa fa-refresh\"></i>' +\n",
       "                  '</a>' +\n",
       "                  '<a href=\"#\" id=\"dojo-configure-time\" ' +\n",
       "                   'style=\"color:rgb(119,119,119); margin: 0 5px;\">' +\n",
       "                    '<i title=\"Configure Time\" class=\"fa fa-wrench\"></i>'+\n",
       "                  '</a>' +\n",
       "                '</div>'\n",
       "              );\n",
       "              $(\"#dojo-timer-time\").hover(function(e) {\n",
       "                if ($(\"#dojo-eye\").hasClass(\"fa-eye-slash\")) {\n",
       "                  DojoClock.mouseOver = e.type === \"mouseenter\";\n",
       "                  DojoClock.viewText();\n",
       "                }\n",
       "              });\n",
       "              $(\"#dojo-reset-time\").click(function() {\n",
       "                DojoClock.reset();\n",
       "              });\n",
       "              $(\"#dojo-configure-time\").click(function() {\n",
       "                var time = prompt(\"New time in seconds\", DojoClock.default);\n",
       "                DojoClock.default = time;\n",
       "                DojoClock.reset();\n",
       "              });\n",
       "              $(\"#dojo-time-toggler\").click(function() {\n",
       "                if ($(\"#dojo-eye\").hasClass(\"fa-eye-slash\")) {\n",
       "                  $(\"#dojo-eye\").removeClass(\"fa-eye-slash\");\n",
       "                  $(\"#dojo-eye\").addClass(\"fa-eye\");\n",
       "                } else {\n",
       "                  $(\"#dojo-eye\").addClass(\"fa-eye-slash\");\n",
       "                  $(\"#dojo-eye\").removeClass(\"fa-eye\");\n",
       "                }\n",
       "                DojoClock.viewText();\n",
       "              });\n",
       "              $(\"#dojo-play-pause\").click(function() {\n",
       "                if ($(\"#dojo-play-pause-icon\").hasClass(\"fa-pause\")) {\n",
       "                  DojoClock.pause()\n",
       "                } else {\n",
       "                  DojoClock.resume();\n",
       "                }\n",
       "              });\n",
       "            }\n",
       "\n",
       "            "
      ],
      "text/plain": [
       "<IPython.core.display.Javascript object>"
      ]
     },
     "metadata": {},
     "output_type": "display_data"
    },
    {
     "data": {
      "application/javascript": [
       "$('#dojo-timer-time').css(\"background-color\",\"yellow\");"
      ],
      "text/plain": [
       "<IPython.core.display.Javascript object>"
      ]
     },
     "metadata": {},
     "output_type": "display_data"
    },
    {
     "data": {
      "application/javascript": [
       "Jupyter.notebook.select(Jupyter.notebook.get_selected_index() - 2)"
      ],
      "text/plain": [
       "<IPython.core.display.Javascript object>"
      ]
     },
     "metadata": {},
     "output_type": "display_data"
    },
    {
     "name": "stdout",
     "output_type": "stream",
     "text": [
      "................\n",
      "----------------------------------------------------------------------\n",
      "Ran 16 tests in 0.015s\n",
      "\n",
      "OK\n"
     ]
    },
    {
     "data": {
      "application/javascript": [
       "$('#dojo-timer-time').css(\"background-color\",\"lightgreen\");"
      ],
      "text/plain": [
       "<IPython.core.display.Javascript object>"
      ]
     },
     "metadata": {},
     "output_type": "display_data"
    },
    {
     "data": {
      "text/plain": [
       "<unittest.runner.TextTestResult run=16 errors=0 failures=0>"
      ]
     },
     "execution_count": 6,
     "metadata": {},
     "output_type": "execute_result"
    }
   ],
   "source": [
    "%%unittest -p 1 --dojo\n",
    "assert mic([0]) == [1]\n",
    "assert mic([1]) == False\n",
    "assert mic([0, 0]) == [1, 0]\n",
    "assert mic([1, 0]) == False\n",
    "assert mic([0, 1]) == False\n",
    "assert mic([1, 0, 0]) == [1, 0, 1]\n",
    "assert mic([1, 0, 1]) == False\n",
    "assert mic([0, 0, 0]) == [1, 0, 0]\n",
    "assert mic([0, 1, 0]) == False\n",
    "assert mic([1, 0, 0, 1, 0]) == False\n",
    "\n",
    "assert mic([1, 0, 0, 1, 0, 0, 0, 1]) == [1, 0, 0, 1, 0, 1, 0, 1]\n",
    "assert mic([1, 0, 0, 1, 0, 0, 0, 0, 1]) == [1, 0, 0, 1, 0, 1, 0, 0, 1]\n",
    "assert mic([0, 0, 0, 0, 0, 0, 0, 0]) == [1, 0, 0, 0, 0, 0, 0, 0]\n",
    "assert mic([1, 1, 1, 1, 1, 1, 1, 1]) == False\n",
    "assert mic([0, 0, 0, 1, 0, 0, 1, 0, 0, 0, 0, 1]) == [1, 0, 0, 1, 0, 0, 1, 0, 0, 0, 0, 1]\n",
    "assert mic([0, 0, 0, 0, 1, 0, 0, 0, 0]) == [1, 0, 0, 0, 1, 0, 0, 0, 0]"
   ]
  },
  {
   "cell_type": "code",
   "execution_count": 7,
   "metadata": {
    "collapsed": false
   },
   "outputs": [],
   "source": [
    "def urinal_2n(config):\n",
    "    \"\"\"Find the solution in O(2n) by calculating all distances\"\"\"\n",
    "    distance = 0\n",
    "    distances = [len(config)] * len(config) \n",
    "    last_i = None\n",
    "\n",
    "    for i, value in enumerate(config):\n",
    "        if value:\n",
    "            last_i = i\n",
    "            distance = 0\n",
    "        if last_i is not None:\n",
    "            distances[i] = distance\n",
    "            distance += 1\n",
    "\n",
    "    max_value, max_i = -1, None\n",
    "    last_i = None\n",
    "\n",
    "    for i in range(len(config) - 1, -1, -1):\n",
    "        value = config[i]\n",
    "        if value:\n",
    "            last_i = i\n",
    "            distance = 0\n",
    "        if last_i is not None:\n",
    "            distances[i] = min(distances[i], distance)\n",
    "            distance += 1\n",
    "        if distances[i] >= max_value:\n",
    "            max_value, max_i = distances[i], i\n",
    "            \n",
    "\n",
    "    if possible(config, max_i):\n",
    "        config[max_i] = 1\n",
    "        return config\n",
    "    return False\n",
    "\n",
    "mic = urinal_2n"
   ]
  },
  {
   "cell_type": "code",
   "execution_count": 8,
   "metadata": {
    "collapsed": false
   },
   "outputs": [
    {
     "data": {
      "application/javascript": [
       "\n",
       "\n",
       "            var DojoClock = {\n",
       "              seconds: 300,\n",
       "              default: 300,\n",
       "              mouseOver: false,\n",
       "\n",
       "\n",
       "              secToMMSS: function (sec) {\n",
       "                var minutes = Math.floor(sec / 60);\n",
       "                var seconds = sec - (minutes * 60);\n",
       "                if (minutes < 10) { minutes = \"0\" + minutes; }\n",
       "                if (seconds < 10) { seconds = \"0\" + seconds; }\n",
       "                return minutes + \":\" + seconds;\n",
       "              },\n",
       "\n",
       "              display: function () {\n",
       "                var self = this;\n",
       "                $(\"#dojo-timer-time\").text(self.secToMMSS(self.seconds));\n",
       "              },\n",
       "\n",
       "              viewText: function() {\n",
       "                var self = this;\n",
       "                if ($(\"#dojo-eye\").hasClass(\"fa-eye\") ||\n",
       "                    $(\"#dojo-play-pause-icon\").hasClass(\"fa-play\") ||\n",
       "                    self.mouseOver) {\n",
       "                  $(\"#dojo-timer-time\").css(\"color\", \"black\");\n",
       "                } else {\n",
       "                  $(\"#dojo-timer-time\").css(\"color\", \"transparent\");\n",
       "                }\n",
       "              },\n",
       "\n",
       "              start: function () {\n",
       "                var self = this;\n",
       "                $(\"#dojo-play-pause-icon\").removeClass(\"fa-play\");\n",
       "                $(\"#dojo-play-pause-icon\").addClass(\"fa-pause\");\n",
       "\n",
       "                this.interval = setInterval(function () {\n",
       "                  self.display();\n",
       "                  if (self.seconds == 0) {\n",
       "                    self.pause();\n",
       "                    alert(\"Time is up. Click ok to restart timer\");\n",
       "                    self.seconds = self.default;\n",
       "                    self.start();\n",
       "                  } else {\n",
       "                    self.seconds--;\n",
       "                  }\n",
       "                  self.viewText();\n",
       "\n",
       "                }, 1000);\n",
       "                $(\"#dojo-timer-interval\").text(this.interval);\n",
       "              },\n",
       "\n",
       "              pause: function () {\n",
       "                var self = this;\n",
       "                $(\"#dojo-play-pause-icon\").addClass(\"fa-play\");\n",
       "                $(\"#dojo-play-pause-icon\").removeClass(\"fa-pause\");\n",
       "                $(\"#dojo-timer-interval\").text(\"\");\n",
       "                clearInterval(this.interval);\n",
       "                delete this.interval;\n",
       "                self.viewText();\n",
       "              },\n",
       "\n",
       "              resume: function () {\n",
       "                if (!this.interval) this.start();\n",
       "              },\n",
       "\n",
       "              reset: function () {\n",
       "                var self = this;\n",
       "                self.seconds = self.default;\n",
       "                self.display();\n",
       "                self.pause();\n",
       "              }\n",
       "\n",
       "            }\n",
       "\n",
       "            //if ($(\"#dojo-timer\").length) {\n",
       "            //  var interval = parseInt($(\"#dojo-timer-interval\").text());\n",
       "            //  clearInterval(interval);\n",
       "            //  $(\"#dojo-timer\").remove();\n",
       "            //}\n",
       "            if (!$(\"#dojo-timer\").length) {\n",
       "              $(\"#kernel_indicator\").after(\n",
       "                '<div id=\"dojo-timer\" class=\"navbar-text indicator_area\">' +\n",
       "                  '<span id=\"dojo-timer-interval\" ' +\n",
       "                   'style=\"margin: 0 5px; display: none;\"></span>' +\n",
       "                  '<a href=\"#\" id=\"dojo-play-pause\" ' +\n",
       "                   'style=\"color:rgb(119,119,119); margin: 0 5px;\">' +\n",
       "                    '<i id=\"dojo-play-pause-icon\" title=\"Play/Pause Timer\" ' +\n",
       "                     'class=\"fa fa-play\" id=\"refresh_timer_icon\"></i>' +\n",
       "                  '</a>' +\n",
       "                  '<a href=\"#\" id=\"dojo-time-toggler\" ' +\n",
       "                   'style=\"color:rgb(119,119,119);\">' +\n",
       "                    '<i id=\"dojo-eye\" title=\"Toggle Timer\" ' +\n",
       "                     'class=\"fa fa-eye-slash\" id=\"refresh_timer_icon\"></i>' +\n",
       "                  '</a>' +\n",
       "                  '<span id=\"dojo-timer-time\" ' +\n",
       "                   'style=\"margin: 0 5px; color:black;\">05:00</span>' +\n",
       "                  '<a href=\"#\" id=\"dojo-reset-time\" ' +\n",
       "                   'style=\"color:rgb(119,119,119);\">' +\n",
       "                    '<i title=\"Reset Time\" class=\"fa fa-refresh\"></i>' +\n",
       "                  '</a>' +\n",
       "                  '<a href=\"#\" id=\"dojo-configure-time\" ' +\n",
       "                   'style=\"color:rgb(119,119,119); margin: 0 5px;\">' +\n",
       "                    '<i title=\"Configure Time\" class=\"fa fa-wrench\"></i>'+\n",
       "                  '</a>' +\n",
       "                '</div>'\n",
       "              );\n",
       "              $(\"#dojo-timer-time\").hover(function(e) {\n",
       "                if ($(\"#dojo-eye\").hasClass(\"fa-eye-slash\")) {\n",
       "                  DojoClock.mouseOver = e.type === \"mouseenter\";\n",
       "                  DojoClock.viewText();\n",
       "                }\n",
       "              });\n",
       "              $(\"#dojo-reset-time\").click(function() {\n",
       "                DojoClock.reset();\n",
       "              });\n",
       "              $(\"#dojo-configure-time\").click(function() {\n",
       "                var time = prompt(\"New time in seconds\", DojoClock.default);\n",
       "                DojoClock.default = time;\n",
       "                DojoClock.reset();\n",
       "              });\n",
       "              $(\"#dojo-time-toggler\").click(function() {\n",
       "                if ($(\"#dojo-eye\").hasClass(\"fa-eye-slash\")) {\n",
       "                  $(\"#dojo-eye\").removeClass(\"fa-eye-slash\");\n",
       "                  $(\"#dojo-eye\").addClass(\"fa-eye\");\n",
       "                } else {\n",
       "                  $(\"#dojo-eye\").addClass(\"fa-eye-slash\");\n",
       "                  $(\"#dojo-eye\").removeClass(\"fa-eye\");\n",
       "                }\n",
       "                DojoClock.viewText();\n",
       "              });\n",
       "              $(\"#dojo-play-pause\").click(function() {\n",
       "                if ($(\"#dojo-play-pause-icon\").hasClass(\"fa-pause\")) {\n",
       "                  DojoClock.pause()\n",
       "                } else {\n",
       "                  DojoClock.resume();\n",
       "                }\n",
       "              });\n",
       "            }\n",
       "\n",
       "            "
      ],
      "text/plain": [
       "<IPython.core.display.Javascript object>"
      ]
     },
     "metadata": {},
     "output_type": "display_data"
    },
    {
     "data": {
      "application/javascript": [
       "$('#dojo-timer-time').css(\"background-color\",\"yellow\");"
      ],
      "text/plain": [
       "<IPython.core.display.Javascript object>"
      ]
     },
     "metadata": {},
     "output_type": "display_data"
    },
    {
     "data": {
      "application/javascript": [
       "Jupyter.notebook.select(Jupyter.notebook.get_selected_index() - 2)"
      ],
      "text/plain": [
       "<IPython.core.display.Javascript object>"
      ]
     },
     "metadata": {},
     "output_type": "display_data"
    },
    {
     "name": "stdout",
     "output_type": "stream",
     "text": [
      "................\n",
      "----------------------------------------------------------------------\n",
      "Ran 16 tests in 0.011s\n",
      "\n",
      "OK\n"
     ]
    },
    {
     "data": {
      "application/javascript": [
       "$('#dojo-timer-time').css(\"background-color\",\"lightgreen\");"
      ],
      "text/plain": [
       "<IPython.core.display.Javascript object>"
      ]
     },
     "metadata": {},
     "output_type": "display_data"
    },
    {
     "data": {
      "text/plain": [
       "<unittest.runner.TextTestResult run=16 errors=0 failures=0>"
      ]
     },
     "execution_count": 8,
     "metadata": {},
     "output_type": "execute_result"
    }
   ],
   "source": [
    "%%unittest -p 1 --dojo\n",
    "\n",
    "assert mic([0]) == [1]\n",
    "assert mic([1]) == False\n",
    "assert mic([0, 0]) == [1, 0]\n",
    "assert mic([1, 0]) == False\n",
    "assert mic([0, 1]) == False\n",
    "assert mic([1, 0, 0]) == [1, 0, 1]\n",
    "assert mic([1, 0, 1]) == False\n",
    "assert mic([0, 0, 0]) == [1, 0, 0]\n",
    "assert mic([0, 1, 0]) == False\n",
    "assert mic([1, 0, 0, 1, 0]) == False\n",
    "\n",
    "assert mic([1, 0, 0, 1, 0, 0, 0, 1]) == [1, 0, 0, 1, 0, 1, 0, 1]\n",
    "assert mic([1, 0, 0, 1, 0, 0, 0, 0, 1]) == [1, 0, 0, 1, 0, 1, 0, 0, 1]\n",
    "assert mic([0, 0, 0, 0, 0, 0, 0, 0]) == [1, 0, 0, 0, 0, 0, 0, 0]\n",
    "assert mic([1, 1, 1, 1, 1, 1, 1, 1]) == False\n",
    "assert mic([0, 0, 0, 1, 0, 0, 1, 0, 0, 0, 0, 1]) == [1, 0, 0, 1, 0, 0, 1, 0, 0, 0, 0, 1]\n",
    "assert mic([0, 0, 0, 0, 1, 0, 0, 0, 0]) == [1, 0, 0, 0, 1, 0, 0, 0, 0]"
   ]
  },
  {
   "cell_type": "code",
   "execution_count": null,
   "metadata": {
    "collapsed": true
   },
   "outputs": [],
   "source": []
  }
 ],
 "metadata": {
  "kernelspec": {
   "display_name": "Python 3",
   "language": "python",
   "name": "python3"
  },
  "language_info": {
   "codemirror_mode": {
    "name": "ipython",
    "version": 3
   },
   "file_extension": ".py",
   "mimetype": "text/x-python",
   "name": "python",
   "nbconvert_exporter": "python",
   "pygments_lexer": "ipython3",
   "version": "3.5.1"
  }
 },
 "nbformat": 4,
 "nbformat_minor": 0
}
