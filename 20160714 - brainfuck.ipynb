{
 "cells": [
  {
   "cell_type": "markdown",
   "metadata": {},
   "source": [
    "# Brainfuck\n",
    "\n",
    "\n",
    "Memoria circular \"infinita\":\n",
    "[0, 0, 0, 0, 0, ..., 0, ...]\n",
    "\n",
    "Comandos:\n",
    "```\n",
    "> -> avança ponteiro\n",
    "< -> volta ponteiro\n",
    "+ -> incrementa\n",
    "- -> decrementa\n",
    ". -> imprime\n",
    ", -> le a entrada\n",
    "[ -> while\n",
    "] -> volta para o ultimo colchete\n",
    "```\n",
    "\n"
   ]
  },
  {
   "cell_type": "code",
   "execution_count": 14,
   "metadata": {
    "collapsed": false
   },
   "outputs": [
    {
     "name": "stdout",
     "output_type": "stream",
     "text": [
      "The ipython_unittest extension is already loaded. To reload it, use:\n",
      "  %reload_ext ipython_unittest\n"
     ]
    }
   ],
   "source": [
    "%load_ext ipython_unittest"
   ]
  },
  {
   "cell_type": "code",
   "execution_count": 107,
   "metadata": {
    "collapsed": false
   },
   "outputs": [],
   "source": [
    "def brainfuck(script, input_):\n",
    "    memory=[0]*3000\n",
    "    loops = []\n",
    "    def brainfuck_(script, input_=\"\", index=0, head=0):\n",
    "        if index == len(script):\n",
    "            return \"\"\n",
    "        if script[index] == \".\":\n",
    "            return chr(memory[head]) + brainfuck_(script, input_, index + 1, head)\n",
    "        if script[index] == \"+\":\n",
    "            memory[head] += 1\n",
    "            return brainfuck_(script, input_, index + 1, head)\n",
    "        if script[index] == \"-\":\n",
    "            memory[head] -= 1\n",
    "            return brainfuck_(script, input_, index + 1, head)\n",
    "        if script[index] == \",\":\n",
    "            memory[head] = ord(input_[0])\n",
    "            return brainfuck_(script, input_[1:], index + 1, head)\n",
    "        if script[index] == \">\":\n",
    "            return brainfuck_(script, input_, index + 1, head + 1)\n",
    "        if script[index] == \"<\":\n",
    "            return brainfuck_(script, input_, index + 1, (head - 1) % 3000)\n",
    "        if script[index] == \"[\":\n",
    "            if memory[head]:\n",
    "                loops.append(index)\n",
    "                return brainfuck_(script, input_, index + 1, head)\n",
    "            else:\n",
    "                bracket_counter = 0\n",
    "                for i in range(index, len(script)):\n",
    "                    if script[i] == \"[\":\n",
    "                        bracket_counter += 1\n",
    "                    if script[i] == \"]\":\n",
    "                        bracket_counter -= 1\n",
    "                    if bracket_counter == 0:\n",
    "                        return brainfuck_(script, input_, i + 1, head)\n",
    "        if script[index] == \"]\":\n",
    "            return brainfuck_(script, input_, loops.pop(), head)\n",
    "    return brainfuck_(script, input_)\n",
    "        \n",
    "    \n"
   ]
  },
  {
   "cell_type": "code",
   "execution_count": 108,
   "metadata": {
    "collapsed": false
   },
   "outputs": [
    {
     "data": {
      "application/javascript": [
       "$('#dojo-timer').show();"
      ],
      "text/plain": [
       "<IPython.core.display.Javascript object>"
      ]
     },
     "metadata": {},
     "output_type": "display_data"
    },
    {
     "data": {
      "application/javascript": [
       "$('#dojo-timer-time').css(\"background-color\",\"yellow\");"
      ],
      "text/plain": [
       "<IPython.core.display.Javascript object>"
      ]
     },
     "metadata": {},
     "output_type": "display_data"
    },
    {
     "data": {
      "application/javascript": [
       "Jupyter.notebook.select(Jupyter.notebook.get_selected_index() - 2)"
      ],
      "text/plain": [
       "<IPython.core.display.Javascript object>"
      ]
     },
     "metadata": {},
     "output_type": "display_data"
    },
    {
     "name": "stdout",
     "output_type": "stream",
     "text": [
      "..............\n",
      "----------------------------------------------------------------------\n",
      "Ran 14 tests in 0.012s\n",
      "\n",
      "OK\n"
     ]
    },
    {
     "data": {
      "application/javascript": [
       "$('#dojo-timer-time').css(\"background-color\",\"lightgreen\");"
      ],
      "text/plain": [
       "<IPython.core.display.Javascript object>"
      ]
     },
     "metadata": {},
     "output_type": "display_data"
    },
    {
     "data": {
      "text/plain": [
       "<unittest.runner.TextTestResult run=14 errors=0 failures=0>"
      ]
     },
     "execution_count": 108,
     "metadata": {},
     "output_type": "execute_result"
    }
   ],
   "source": [
    "%%unittest -d -p 1\n",
    "assert brainfuck(\".\", \"\") == chr(0)\n",
    "assert brainfuck(\"..\", \"\") == chr(0) + chr(0)\n",
    "assert brainfuck(\"+.\", \"\") == chr(1)\n",
    "assert brainfuck(\"++.\", \"\") == chr(2)\n",
    "assert brainfuck(\"+.+.\", \"\") == chr(1)+chr(2)\n",
    "assert brainfuck(\".+++..+.+.++.\", \"\") == chr(0)+chr(3)+chr(3)+chr(4)+chr(5)+chr(7)\n",
    "assert brainfuck(\"+.-.\", \"\") == chr(1)+chr(0)\n",
    "assert brainfuck(\",.\", \"a\") == \"a\"\n",
    "assert brainfuck(\",,.\", \"ac\") == \"c\"\n",
    "assert brainfuck(\",>.\", \"a\") == chr(0)\n",
    "assert brainfuck(\",<.\", \"a\") == chr(0)\n",
    "assert brainfuck(\"[].\", \"\") == chr(0)\n",
    "assert brainfuck(\"+[.-].\", \"\") == chr(1) + chr(0)\n",
    "assert brainfuck(\"+[-[]].\", \"\") == chr(0)\n",
    "\n",
    "\n",
    "\n"
   ]
  },
  {
   "cell_type": "markdown",
   "metadata": {},
   "source": [
    "# :)\n",
    "\n",
    "- X23 participou\n",
    "- Brainfuck\n",
    "- Aprendemos a dar nome as variáveis\n",
    "- Teve bolacha\n",
    "- Não teve bixcoito\n",
    "- Tela colorida\n",
    "- Tela satânica\n",
    "- Perdi\n",
    "- Teve log\n",
    "- Marcelo encontrou o bug do log\n",
    "\n",
    "# :(\n",
    "\n",
    "- Monteiro falou bolacha naturalmente\n",
    "- Fomos forcados a falar bolacha\n",
    "- Pouca gente\n",
    "- Não teve mouse\n",
    "- Log ta bugado\n",
    "- X23 não compartilhou o café\n",
    "- Wellington é muito difícil de escrever\n",
    "- Provavelmente não vai ter pós\n",
    "- Não vai ter pós mesmo\n",
    "- Jupyter não mostra o número das linhas\n",
    "- X23 nunca vai compartilhar o café\n",
    "\n",
    "# Sugestões\n",
    "\n",
    "- Ter bixcoito\n",
    "- Jupyter mostrar o número das linhas\n",
    "- Ter pós\n",
    "- Desbugar o log\n",
    "- Ter mouse\n",
    "- Muita gente\n",
    "- Teclado BR\n",
    "- X23 compartilhar o café"
   ]
  },
  {
   "cell_type": "markdown",
   "metadata": {},
   "source": [
    "- 6:34:13 PM -> 6:39:16 PM = JF, Marcelo\n",
    "- 6:39:45 PM -> 6:44:46 PM = Marcelo, Monteiro\n",
    "- 6:46:08 PM -> 6:54:00 PM = Monteiro, Wellington\n",
    "- 6:54:58 PM -> 7:02:40 PM = Wellington, X23\n",
    "- 7:03:01 PM -> 7:10:02 PM = X23, JF\n",
    "- 7:10:17 PM -> 7:17:18 PM = JF, Marcelo\n",
    "- 7:17:32 PM -> 7:26:14 PM = Marcelo, Monteiro\n",
    "- 7:26:34 PM -> 7:33:35 PM = Monteiro, Wellington\n",
    "- 7:33:49 PM -> 7:40:50 PM = Wellington, X23\n",
    "- 7:41:06 PM -> 7:48:07 PM = X23, JF\n",
    "- 7:48:22 PM -> 7:55:23 PM = JF, JF\n",
    "- 7:55:56 PM -> 8:06:25 PM = JF, Monteiro\n",
    "- 8:06:44 PM -> 8:12:55 PM = Monteiro, Wellington"
   ]
  },
  {
   "cell_type": "code",
   "execution_count": 111,
   "metadata": {
    "collapsed": false
   },
   "outputs": [
    {
     "name": "stdout",
     "output_type": "stream",
     "text": [
      "Not a chance\n"
     ]
    }
   ],
   "source": [
    "from x23 import coffee"
   ]
  },
  {
   "cell_type": "code",
   "execution_count": null,
   "metadata": {
    "collapsed": true
   },
   "outputs": [],
   "source": []
  }
 ],
 "metadata": {
  "kernelspec": {
   "display_name": "Python 3",
   "language": "python",
   "name": "python3"
  },
  "language_info": {
   "codemirror_mode": {
    "name": "ipython",
    "version": 3
   },
   "file_extension": ".py",
   "mimetype": "text/x-python",
   "name": "python",
   "nbconvert_exporter": "python",
   "pygments_lexer": "ipython3",
   "version": "3.5.1"
  }
 },
 "nbformat": 4,
 "nbformat_minor": 0
}
