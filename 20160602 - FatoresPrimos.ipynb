{
 "cells": [
  {
   "cell_type": "markdown",
   "metadata": {},
   "source": [
    "# O Problema\n",
    "```\n",
    "  Dado um numero inteiro positivo, retornar uma lista com seus fatores primos.\n",
    "```"
   ]
  },
  {
   "cell_type": "code",
   "execution_count": 1,
   "metadata": {
    "collapsed": true
   },
   "outputs": [],
   "source": [
    "%load_ext ipython_unittest"
   ]
  },
  {
   "cell_type": "code",
   "execution_count": 147,
   "metadata": {
    "collapsed": true
   },
   "outputs": [],
   "source": [
    "from collections import Counter"
   ]
  },
  {
   "cell_type": "code",
   "execution_count": 152,
   "metadata": {
    "collapsed": true
   },
   "outputs": [],
   "source": [
    "def fatores_primos(num):\n",
    "    if num in (0, 1):\n",
    "        return Counter()\n",
    "    for i in gera_primos(int(num ** 0.5)):\n",
    "        if num % i == 0:\n",
    "            return Counter({i:1}) + fatores_primos(num // i)\n",
    "    return Counter({num:1})"
   ]
  },
  {
   "cell_type": "code",
   "execution_count": 153,
   "metadata": {
    "collapsed": false,
    "scrolled": true
   },
   "outputs": [
    {
     "data": {
      "application/javascript": [
       "$('a[title=\"dashboard\"]').css(\"background-color\",\"yellow\");"
      ],
      "text/plain": [
       "<IPython.core.display.Javascript object>"
      ]
     },
     "metadata": {},
     "output_type": "display_data"
    },
    {
     "data": {
      "application/javascript": [
       "Jupyter.notebook.select(Jupyter.notebook.get_selected_index() - 2)"
      ],
      "text/plain": [
       "<IPython.core.display.Javascript object>"
      ]
     },
     "metadata": {},
     "output_type": "display_data"
    },
    {
     "name": "stdout",
     "output_type": "stream",
     "text": [
      "..............\n",
      "----------------------------------------------------------------------\n",
      "Ran 14 tests in 0.014s\n",
      "\n",
      "OK\n"
     ]
    },
    {
     "data": {
      "application/javascript": [
       "$('a[title=\"dashboard\"]').css(\"background-color\",\"green\");"
      ],
      "text/plain": [
       "<IPython.core.display.Javascript object>"
      ]
     },
     "metadata": {},
     "output_type": "display_data"
    },
    {
     "data": {
      "text/plain": [
       "<unittest.runner.TextTestResult run=14 errors=0 failures=0>"
      ]
     },
     "execution_count": 153,
     "metadata": {},
     "output_type": "execute_result"
    }
   ],
   "source": [
    "%%unittest -p 1 -c\n",
    "assert fatores_primos(6) == {2:1, 3:1}\n",
    "assert fatores_primos(2) == {2:1}\n",
    "assert fatores_primos(3) == {3:1}\n",
    "assert fatores_primos(5) == {5:1}\n",
    "assert fatores_primos(4) == {2:2}\n",
    "assert fatores_primos(10) == {2:1, 5:1}\n",
    "assert fatores_primos(9) == {3:2}\n",
    "assert fatores_primos(7) == {7:1}\n",
    "assert fatores_primos(15) == {3:1, 5:1}\n",
    "assert fatores_primos(25) == {5:2}\n",
    "assert fatores_primos(46) == {2: 1, 23: 1}\n",
    "assert fatores_primos(121) == {11: 2}\n",
    "assert fatores_primos(49) == {7: 2}\n",
    "assert fatores_primos(0) == {}"
   ]
  },
  {
   "cell_type": "code",
   "execution_count": 142,
   "metadata": {
    "collapsed": true
   },
   "outputs": [],
   "source": [
    "#import\n",
    "def gera_primos(num):\n",
    "    yield 2\n",
    "    for current in range(3, num+1, 2):\n",
    "        if not any(i for i in range(2, current // 2) if current%i == 0):\n",
    "            yield current"
   ]
  },
  {
   "cell_type": "code",
   "execution_count": 143,
   "metadata": {
    "collapsed": false
   },
   "outputs": [
    {
     "data": {
      "application/javascript": [
       "$('a[title=\"dashboard\"]').css(\"background-color\",\"yellow\");"
      ],
      "text/plain": [
       "<IPython.core.display.Javascript object>"
      ]
     },
     "metadata": {},
     "output_type": "display_data"
    },
    {
     "data": {
      "application/javascript": [
       "Jupyter.notebook.select(Jupyter.notebook.get_selected_index() - 2)"
      ],
      "text/plain": [
       "<IPython.core.display.Javascript object>"
      ]
     },
     "metadata": {},
     "output_type": "display_data"
    },
    {
     "name": "stdout",
     "output_type": "stream",
     "text": [
      "...\n",
      "----------------------------------------------------------------------\n",
      "Ran 3 tests in 0.003s\n",
      "\n",
      "OK\n"
     ]
    },
    {
     "data": {
      "application/javascript": [
       "$('a[title=\"dashboard\"]').css(\"background-color\",\"green\");"
      ],
      "text/plain": [
       "<IPython.core.display.Javascript object>"
      ]
     },
     "metadata": {},
     "output_type": "display_data"
    },
    {
     "data": {
      "text/plain": [
       "<unittest.runner.TextTestResult run=3 errors=0 failures=0>"
      ]
     },
     "execution_count": 143,
     "metadata": {},
     "output_type": "execute_result"
    }
   ],
   "source": [
    "%%unittest -p 1 -c\n",
    "assert list(gera_primos(2))==[2]\n",
    "assert list(gera_primos(3))==[2, 3]\n",
    "assert list(gera_primos(10))==[2, 3, 5, 7]\n"
   ]
  },
  {
   "cell_type": "code",
   "execution_count": 111,
   "metadata": {
    "collapsed": false
   },
   "outputs": [
    {
     "data": {
      "text/plain": [
       "[2,\n",
       " 3,\n",
       " 5,\n",
       " 7,\n",
       " 11,\n",
       " 13,\n",
       " 17,\n",
       " 19,\n",
       " 23,\n",
       " 29,\n",
       " 31,\n",
       " 37,\n",
       " 41,\n",
       " 43,\n",
       " 47,\n",
       " 53,\n",
       " 59,\n",
       " 61,\n",
       " 67,\n",
       " 71,\n",
       " 73,\n",
       " 79,\n",
       " 83,\n",
       " 89,\n",
       " 97]"
      ]
     },
     "execution_count": 111,
     "metadata": {},
     "output_type": "execute_result"
    }
   ],
   "source": [
    "list(gera_primos(100))"
   ]
  },
  {
   "cell_type": "code",
   "execution_count": 121,
   "metadata": {
    "collapsed": false
   },
   "outputs": [
    {
     "data": {
      "text/plain": [
       "True"
      ]
     },
     "execution_count": 121,
     "metadata": {},
     "output_type": "execute_result"
    }
   ],
   "source": [
    "num=72\n",
    "any(i for i in range(2,int(num**(0.5))) if num%i == 0)\n"
   ]
  },
  {
   "cell_type": "markdown",
   "metadata": {
    "collapsed": true
   },
   "source": [
    "# +\n",
    "\n",
    "- Jupyter Notebook\n",
    "- ipython unittest\n",
    "- novos aprendizados\n",
    "- problema matemático\n",
    "- piadas de tiozão\n",
    "- respeito ao decoro no ambiente de dojo\n",
    "- clima descontraído\n",
    "- JF\n",
    "- Aniversário do Castilho\n",
    "- Tiramos foto\n",
    "\n",
    "# -\n",
    "\n",
    "- O Monteiro dando rage\n",
    "- piadas de tiozão\n",
    "- trabalho de APA\n",
    "- falta de decoro no ambiente de dojo\n",
    "- google timer\n",
    "- sem alimentos para consumo durante o dojo\n",
    "- muita conversa paralela\n",
    "\n",
    "# Sugestões\n",
    "\n",
    "- O oposto dos pontos negatvos\n",
    "- Usar uma ampulheta\n",
    "- Roubar um sinal de trânsito na rua\n",
    "- Não ser preso\n",
    "- Participação de todos os presentes\n",
    "- Aprender Markdown\n",
    "- Mais opressão\n",
    "- Menos opressão\n",
    "\n",
    "\n"
   ]
  },
  {
   "cell_type": "code",
   "execution_count": null,
   "metadata": {
    "collapsed": true
   },
   "outputs": [],
   "source": []
  }
 ],
 "metadata": {
  "kernelspec": {
   "display_name": "Python 3",
   "language": "python",
   "name": "python3"
  },
  "language_info": {
   "codemirror_mode": {
    "name": "ipython",
    "version": 3
   },
   "file_extension": ".py",
   "mimetype": "text/x-python",
   "name": "python",
   "nbconvert_exporter": "python",
   "pygments_lexer": "ipython3",
   "version": "3.5.1"
  }
 },
 "nbformat": 4,
 "nbformat_minor": 0
}
